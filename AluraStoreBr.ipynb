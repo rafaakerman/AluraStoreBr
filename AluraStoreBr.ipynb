{
  "nbformat": 4,
  "nbformat_minor": 0,
  "metadata": {
    "colab": {
      "provenance": [],
      "collapsed_sections": [
        "2V_vcAPzWZmR",
        "DmNp1KPBZCm-"
      ]
    },
    "kernelspec": {
      "name": "python3",
      "display_name": "Python 3"
    },
    "language_info": {
      "name": "python"
    }
  },
  "cells": [
    {
      "cell_type": "markdown",
      "source": [
        "### Importação dos dados\n",
        "\n"
      ],
      "metadata": {
        "id": "RhEdWd9YUR6H"
      }
    },
    {
      "cell_type": "code",
      "execution_count": 45,
      "metadata": {
        "colab": {
          "base_uri": "https://localhost:8080/",
          "height": 206
        },
        "id": "T3EvaeQ_INIL",
        "outputId": "2f0a164d-223c-463a-a12c-9c9f435caf7c"
      },
      "outputs": [
        {
          "output_type": "execute_result",
          "data": {
            "text/plain": [
              "                 Produto Categoria do Produto    Preço      Frete  \\\n",
              "0     Assistente virtual          eletronicos   219.08   9.249790   \n",
              "1         Mesa de jantar               moveis   256.35  11.234305   \n",
              "2      Jogo de tabuleiro           brinquedos   279.51  21.262681   \n",
              "3            Micro-ondas     eletrodomesticos  1009.99  54.667344   \n",
              "4  Cadeira de escritório               moveis   446.99  26.964689   \n",
              "\n",
              "  Data da Compra        Vendedor Local da compra  Avaliação da compra  \\\n",
              "0     16/01/2021     Pedro Gomes              SP                    4   \n",
              "1     18/05/2022  Beatriz Moraes              RJ                    1   \n",
              "2     15/03/2021      João Souza              DF                    1   \n",
              "3     03/05/2022      João Souza              RS                    4   \n",
              "4     07/11/2020   Larissa Alves              MG                    5   \n",
              "\n",
              "  Tipo de pagamento  Quantidade de parcelas    lat    lon  \n",
              "0    cartao_credito                       8 -22.19 -48.79  \n",
              "1    cartao_credito                       4 -22.25 -42.66  \n",
              "2    cartao_credito                       1 -15.83 -47.86  \n",
              "3            boleto                       1 -30.17 -53.50  \n",
              "4            boleto                       1 -18.10 -44.38  "
            ],
            "text/html": [
              "\n",
              "  <div id=\"df-b462b8cc-c704-4990-abf5-3dc8c4b68eb2\" class=\"colab-df-container\">\n",
              "    <div>\n",
              "<style scoped>\n",
              "    .dataframe tbody tr th:only-of-type {\n",
              "        vertical-align: middle;\n",
              "    }\n",
              "\n",
              "    .dataframe tbody tr th {\n",
              "        vertical-align: top;\n",
              "    }\n",
              "\n",
              "    .dataframe thead th {\n",
              "        text-align: right;\n",
              "    }\n",
              "</style>\n",
              "<table border=\"1\" class=\"dataframe\">\n",
              "  <thead>\n",
              "    <tr style=\"text-align: right;\">\n",
              "      <th></th>\n",
              "      <th>Produto</th>\n",
              "      <th>Categoria do Produto</th>\n",
              "      <th>Preço</th>\n",
              "      <th>Frete</th>\n",
              "      <th>Data da Compra</th>\n",
              "      <th>Vendedor</th>\n",
              "      <th>Local da compra</th>\n",
              "      <th>Avaliação da compra</th>\n",
              "      <th>Tipo de pagamento</th>\n",
              "      <th>Quantidade de parcelas</th>\n",
              "      <th>lat</th>\n",
              "      <th>lon</th>\n",
              "    </tr>\n",
              "  </thead>\n",
              "  <tbody>\n",
              "    <tr>\n",
              "      <th>0</th>\n",
              "      <td>Assistente virtual</td>\n",
              "      <td>eletronicos</td>\n",
              "      <td>219.08</td>\n",
              "      <td>9.249790</td>\n",
              "      <td>16/01/2021</td>\n",
              "      <td>Pedro Gomes</td>\n",
              "      <td>SP</td>\n",
              "      <td>4</td>\n",
              "      <td>cartao_credito</td>\n",
              "      <td>8</td>\n",
              "      <td>-22.19</td>\n",
              "      <td>-48.79</td>\n",
              "    </tr>\n",
              "    <tr>\n",
              "      <th>1</th>\n",
              "      <td>Mesa de jantar</td>\n",
              "      <td>moveis</td>\n",
              "      <td>256.35</td>\n",
              "      <td>11.234305</td>\n",
              "      <td>18/05/2022</td>\n",
              "      <td>Beatriz Moraes</td>\n",
              "      <td>RJ</td>\n",
              "      <td>1</td>\n",
              "      <td>cartao_credito</td>\n",
              "      <td>4</td>\n",
              "      <td>-22.25</td>\n",
              "      <td>-42.66</td>\n",
              "    </tr>\n",
              "    <tr>\n",
              "      <th>2</th>\n",
              "      <td>Jogo de tabuleiro</td>\n",
              "      <td>brinquedos</td>\n",
              "      <td>279.51</td>\n",
              "      <td>21.262681</td>\n",
              "      <td>15/03/2021</td>\n",
              "      <td>João Souza</td>\n",
              "      <td>DF</td>\n",
              "      <td>1</td>\n",
              "      <td>cartao_credito</td>\n",
              "      <td>1</td>\n",
              "      <td>-15.83</td>\n",
              "      <td>-47.86</td>\n",
              "    </tr>\n",
              "    <tr>\n",
              "      <th>3</th>\n",
              "      <td>Micro-ondas</td>\n",
              "      <td>eletrodomesticos</td>\n",
              "      <td>1009.99</td>\n",
              "      <td>54.667344</td>\n",
              "      <td>03/05/2022</td>\n",
              "      <td>João Souza</td>\n",
              "      <td>RS</td>\n",
              "      <td>4</td>\n",
              "      <td>boleto</td>\n",
              "      <td>1</td>\n",
              "      <td>-30.17</td>\n",
              "      <td>-53.50</td>\n",
              "    </tr>\n",
              "    <tr>\n",
              "      <th>4</th>\n",
              "      <td>Cadeira de escritório</td>\n",
              "      <td>moveis</td>\n",
              "      <td>446.99</td>\n",
              "      <td>26.964689</td>\n",
              "      <td>07/11/2020</td>\n",
              "      <td>Larissa Alves</td>\n",
              "      <td>MG</td>\n",
              "      <td>5</td>\n",
              "      <td>boleto</td>\n",
              "      <td>1</td>\n",
              "      <td>-18.10</td>\n",
              "      <td>-44.38</td>\n",
              "    </tr>\n",
              "  </tbody>\n",
              "</table>\n",
              "</div>\n",
              "    <div class=\"colab-df-buttons\">\n",
              "\n",
              "  <div class=\"colab-df-container\">\n",
              "    <button class=\"colab-df-convert\" onclick=\"convertToInteractive('df-b462b8cc-c704-4990-abf5-3dc8c4b68eb2')\"\n",
              "            title=\"Convert this dataframe to an interactive table.\"\n",
              "            style=\"display:none;\">\n",
              "\n",
              "  <svg xmlns=\"http://www.w3.org/2000/svg\" height=\"24px\" viewBox=\"0 -960 960 960\">\n",
              "    <path d=\"M120-120v-720h720v720H120Zm60-500h600v-160H180v160Zm220 220h160v-160H400v160Zm0 220h160v-160H400v160ZM180-400h160v-160H180v160Zm440 0h160v-160H620v160ZM180-180h160v-160H180v160Zm440 0h160v-160H620v160Z\"/>\n",
              "  </svg>\n",
              "    </button>\n",
              "\n",
              "  <style>\n",
              "    .colab-df-container {\n",
              "      display:flex;\n",
              "      gap: 12px;\n",
              "    }\n",
              "\n",
              "    .colab-df-convert {\n",
              "      background-color: #E8F0FE;\n",
              "      border: none;\n",
              "      border-radius: 50%;\n",
              "      cursor: pointer;\n",
              "      display: none;\n",
              "      fill: #1967D2;\n",
              "      height: 32px;\n",
              "      padding: 0 0 0 0;\n",
              "      width: 32px;\n",
              "    }\n",
              "\n",
              "    .colab-df-convert:hover {\n",
              "      background-color: #E2EBFA;\n",
              "      box-shadow: 0px 1px 2px rgba(60, 64, 67, 0.3), 0px 1px 3px 1px rgba(60, 64, 67, 0.15);\n",
              "      fill: #174EA6;\n",
              "    }\n",
              "\n",
              "    .colab-df-buttons div {\n",
              "      margin-bottom: 4px;\n",
              "    }\n",
              "\n",
              "    [theme=dark] .colab-df-convert {\n",
              "      background-color: #3B4455;\n",
              "      fill: #D2E3FC;\n",
              "    }\n",
              "\n",
              "    [theme=dark] .colab-df-convert:hover {\n",
              "      background-color: #434B5C;\n",
              "      box-shadow: 0px 1px 3px 1px rgba(0, 0, 0, 0.15);\n",
              "      filter: drop-shadow(0px 1px 2px rgba(0, 0, 0, 0.3));\n",
              "      fill: #FFFFFF;\n",
              "    }\n",
              "  </style>\n",
              "\n",
              "    <script>\n",
              "      const buttonEl =\n",
              "        document.querySelector('#df-b462b8cc-c704-4990-abf5-3dc8c4b68eb2 button.colab-df-convert');\n",
              "      buttonEl.style.display =\n",
              "        google.colab.kernel.accessAllowed ? 'block' : 'none';\n",
              "\n",
              "      async function convertToInteractive(key) {\n",
              "        const element = document.querySelector('#df-b462b8cc-c704-4990-abf5-3dc8c4b68eb2');\n",
              "        const dataTable =\n",
              "          await google.colab.kernel.invokeFunction('convertToInteractive',\n",
              "                                                    [key], {});\n",
              "        if (!dataTable) return;\n",
              "\n",
              "        const docLinkHtml = 'Like what you see? Visit the ' +\n",
              "          '<a target=\"_blank\" href=https://colab.research.google.com/notebooks/data_table.ipynb>data table notebook</a>'\n",
              "          + ' to learn more about interactive tables.';\n",
              "        element.innerHTML = '';\n",
              "        dataTable['output_type'] = 'display_data';\n",
              "        await google.colab.output.renderOutput(dataTable, element);\n",
              "        const docLink = document.createElement('div');\n",
              "        docLink.innerHTML = docLinkHtml;\n",
              "        element.appendChild(docLink);\n",
              "      }\n",
              "    </script>\n",
              "  </div>\n",
              "\n",
              "\n",
              "    <div id=\"df-9cfcf295-21a2-4bc9-a887-7cc4d3b5cf2f\">\n",
              "      <button class=\"colab-df-quickchart\" onclick=\"quickchart('df-9cfcf295-21a2-4bc9-a887-7cc4d3b5cf2f')\"\n",
              "                title=\"Suggest charts\"\n",
              "                style=\"display:none;\">\n",
              "\n",
              "<svg xmlns=\"http://www.w3.org/2000/svg\" height=\"24px\"viewBox=\"0 0 24 24\"\n",
              "     width=\"24px\">\n",
              "    <g>\n",
              "        <path d=\"M19 3H5c-1.1 0-2 .9-2 2v14c0 1.1.9 2 2 2h14c1.1 0 2-.9 2-2V5c0-1.1-.9-2-2-2zM9 17H7v-7h2v7zm4 0h-2V7h2v10zm4 0h-2v-4h2v4z\"/>\n",
              "    </g>\n",
              "</svg>\n",
              "      </button>\n",
              "\n",
              "<style>\n",
              "  .colab-df-quickchart {\n",
              "      --bg-color: #E8F0FE;\n",
              "      --fill-color: #1967D2;\n",
              "      --hover-bg-color: #E2EBFA;\n",
              "      --hover-fill-color: #174EA6;\n",
              "      --disabled-fill-color: #AAA;\n",
              "      --disabled-bg-color: #DDD;\n",
              "  }\n",
              "\n",
              "  [theme=dark] .colab-df-quickchart {\n",
              "      --bg-color: #3B4455;\n",
              "      --fill-color: #D2E3FC;\n",
              "      --hover-bg-color: #434B5C;\n",
              "      --hover-fill-color: #FFFFFF;\n",
              "      --disabled-bg-color: #3B4455;\n",
              "      --disabled-fill-color: #666;\n",
              "  }\n",
              "\n",
              "  .colab-df-quickchart {\n",
              "    background-color: var(--bg-color);\n",
              "    border: none;\n",
              "    border-radius: 50%;\n",
              "    cursor: pointer;\n",
              "    display: none;\n",
              "    fill: var(--fill-color);\n",
              "    height: 32px;\n",
              "    padding: 0;\n",
              "    width: 32px;\n",
              "  }\n",
              "\n",
              "  .colab-df-quickchart:hover {\n",
              "    background-color: var(--hover-bg-color);\n",
              "    box-shadow: 0 1px 2px rgba(60, 64, 67, 0.3), 0 1px 3px 1px rgba(60, 64, 67, 0.15);\n",
              "    fill: var(--button-hover-fill-color);\n",
              "  }\n",
              "\n",
              "  .colab-df-quickchart-complete:disabled,\n",
              "  .colab-df-quickchart-complete:disabled:hover {\n",
              "    background-color: var(--disabled-bg-color);\n",
              "    fill: var(--disabled-fill-color);\n",
              "    box-shadow: none;\n",
              "  }\n",
              "\n",
              "  .colab-df-spinner {\n",
              "    border: 2px solid var(--fill-color);\n",
              "    border-color: transparent;\n",
              "    border-bottom-color: var(--fill-color);\n",
              "    animation:\n",
              "      spin 1s steps(1) infinite;\n",
              "  }\n",
              "\n",
              "  @keyframes spin {\n",
              "    0% {\n",
              "      border-color: transparent;\n",
              "      border-bottom-color: var(--fill-color);\n",
              "      border-left-color: var(--fill-color);\n",
              "    }\n",
              "    20% {\n",
              "      border-color: transparent;\n",
              "      border-left-color: var(--fill-color);\n",
              "      border-top-color: var(--fill-color);\n",
              "    }\n",
              "    30% {\n",
              "      border-color: transparent;\n",
              "      border-left-color: var(--fill-color);\n",
              "      border-top-color: var(--fill-color);\n",
              "      border-right-color: var(--fill-color);\n",
              "    }\n",
              "    40% {\n",
              "      border-color: transparent;\n",
              "      border-right-color: var(--fill-color);\n",
              "      border-top-color: var(--fill-color);\n",
              "    }\n",
              "    60% {\n",
              "      border-color: transparent;\n",
              "      border-right-color: var(--fill-color);\n",
              "    }\n",
              "    80% {\n",
              "      border-color: transparent;\n",
              "      border-right-color: var(--fill-color);\n",
              "      border-bottom-color: var(--fill-color);\n",
              "    }\n",
              "    90% {\n",
              "      border-color: transparent;\n",
              "      border-bottom-color: var(--fill-color);\n",
              "    }\n",
              "  }\n",
              "</style>\n",
              "\n",
              "      <script>\n",
              "        async function quickchart(key) {\n",
              "          const quickchartButtonEl =\n",
              "            document.querySelector('#' + key + ' button');\n",
              "          quickchartButtonEl.disabled = true;  // To prevent multiple clicks.\n",
              "          quickchartButtonEl.classList.add('colab-df-spinner');\n",
              "          try {\n",
              "            const charts = await google.colab.kernel.invokeFunction(\n",
              "                'suggestCharts', [key], {});\n",
              "          } catch (error) {\n",
              "            console.error('Error during call to suggestCharts:', error);\n",
              "          }\n",
              "          quickchartButtonEl.classList.remove('colab-df-spinner');\n",
              "          quickchartButtonEl.classList.add('colab-df-quickchart-complete');\n",
              "        }\n",
              "        (() => {\n",
              "          let quickchartButtonEl =\n",
              "            document.querySelector('#df-9cfcf295-21a2-4bc9-a887-7cc4d3b5cf2f button');\n",
              "          quickchartButtonEl.style.display =\n",
              "            google.colab.kernel.accessAllowed ? 'block' : 'none';\n",
              "        })();\n",
              "      </script>\n",
              "    </div>\n",
              "\n",
              "    </div>\n",
              "  </div>\n"
            ],
            "application/vnd.google.colaboratory.intrinsic+json": {
              "type": "dataframe",
              "variable_name": "loja",
              "summary": "{\n  \"name\": \"loja\",\n  \"rows\": 2359,\n  \"fields\": [\n    {\n      \"column\": \"Produto\",\n      \"properties\": {\n        \"dtype\": \"category\",\n        \"num_unique_values\": 51,\n        \"samples\": [\n          \"Viol\\u00e3o\",\n          \"Bola de basquete\",\n          \"Smartwatch\"\n        ],\n        \"semantic_type\": \"\",\n        \"description\": \"\"\n      }\n    },\n    {\n      \"column\": \"Categoria do Produto\",\n      \"properties\": {\n        \"dtype\": \"category\",\n        \"num_unique_values\": 8,\n        \"samples\": [\n          \"moveis\",\n          \"esporte e lazer\",\n          \"eletronicos\"\n        ],\n        \"semantic_type\": \"\",\n        \"description\": \"\"\n      }\n    },\n    {\n      \"column\": \"Pre\\u00e7o\",\n      \"properties\": {\n        \"dtype\": \"number\",\n        \"std\": 819.5827782539145,\n        \"min\": 10.07,\n        \"max\": 3969.38,\n        \"num_unique_values\": 2315,\n        \"samples\": [\n          446.11,\n          107.31,\n          65.86\n        ],\n        \"semantic_type\": \"\",\n        \"description\": \"\"\n      }\n    },\n    {\n      \"column\": \"Frete\",\n      \"properties\": {\n        \"dtype\": \"number\",\n        \"std\": 43.814183327408166,\n        \"min\": 0.0,\n        \"max\": 214.3770604781,\n        \"num_unique_values\": 2149,\n        \"samples\": [\n          83.815279607,\n          16.069664669,\n          14.0344876928\n        ],\n        \"semantic_type\": \"\",\n        \"description\": \"\"\n      }\n    },\n    {\n      \"column\": \"Data da Compra\",\n      \"properties\": {\n        \"dtype\": \"object\",\n        \"num_unique_values\": 1018,\n        \"samples\": [\n          \"15/09/2022\",\n          \"03/06/2020\",\n          \"06/11/2021\"\n        ],\n        \"semantic_type\": \"\",\n        \"description\": \"\"\n      }\n    },\n    {\n      \"column\": \"Vendedor\",\n      \"properties\": {\n        \"dtype\": \"category\",\n        \"num_unique_values\": 14,\n        \"samples\": [\n          \"Juliana Costa\",\n          \"Mariana Ferreira\",\n          \"Pedro Gomes\"\n        ],\n        \"semantic_type\": \"\",\n        \"description\": \"\"\n      }\n    },\n    {\n      \"column\": \"Local da compra\",\n      \"properties\": {\n        \"dtype\": \"category\",\n        \"num_unique_values\": 26,\n        \"samples\": [\n          \"TO\",\n          \"RN\",\n          \"SP\"\n        ],\n        \"semantic_type\": \"\",\n        \"description\": \"\"\n      }\n    },\n    {\n      \"column\": \"Avalia\\u00e7\\u00e3o da compra\",\n      \"properties\": {\n        \"dtype\": \"number\",\n        \"std\": 1,\n        \"min\": 1,\n        \"max\": 5,\n        \"num_unique_values\": 5,\n        \"samples\": [\n          1,\n          2,\n          5\n        ],\n        \"semantic_type\": \"\",\n        \"description\": \"\"\n      }\n    },\n    {\n      \"column\": \"Tipo de pagamento\",\n      \"properties\": {\n        \"dtype\": \"category\",\n        \"num_unique_values\": 4,\n        \"samples\": [\n          \"boleto\",\n          \"cartao_debito\",\n          \"cartao_credito\"\n        ],\n        \"semantic_type\": \"\",\n        \"description\": \"\"\n      }\n    },\n    {\n      \"column\": \"Quantidade de parcelas\",\n      \"properties\": {\n        \"dtype\": \"number\",\n        \"std\": 2,\n        \"min\": 1,\n        \"max\": 24,\n        \"num_unique_values\": 15,\n        \"samples\": [\n          7,\n          14,\n          8\n        ],\n        \"semantic_type\": \"\",\n        \"description\": \"\"\n      }\n    },\n    {\n      \"column\": \"lat\",\n      \"properties\": {\n        \"dtype\": \"number\",\n        \"std\": 5.372399916530833,\n        \"min\": -30.17,\n        \"max\": 1.41,\n        \"num_unique_values\": 26,\n        \"samples\": [\n          -9.46,\n          -5.81,\n          -22.19\n        ],\n        \"semantic_type\": \"\",\n        \"description\": \"\"\n      }\n    },\n    {\n      \"column\": \"lon\",\n      \"properties\": {\n        \"dtype\": \"number\",\n        \"std\": 4.183180020544179,\n        \"min\": -70.55,\n        \"max\": -36.59,\n        \"num_unique_values\": 26,\n        \"samples\": [\n          -48.26,\n          -36.59,\n          -48.79\n        ],\n        \"semantic_type\": \"\",\n        \"description\": \"\"\n      }\n    }\n  ]\n}"
            }
          },
          "metadata": {},
          "execution_count": 45
        }
      ],
      "source": [
        "import pandas as pd\n",
        "\n",
        "url = \"https://raw.githubusercontent.com/alura-es-cursos/challenge1-data-science/refs/heads/main/base-de-dados-challenge-1/loja_1.csv\"\n",
        "url2 = \"https://raw.githubusercontent.com/alura-es-cursos/challenge1-data-science/refs/heads/main/base-de-dados-challenge-1/loja_2.csv\"\n",
        "url3 = \"https://raw.githubusercontent.com/alura-es-cursos/challenge1-data-science/refs/heads/main/base-de-dados-challenge-1/loja_3.csv\"\n",
        "url4 = \"https://raw.githubusercontent.com/alura-es-cursos/challenge1-data-science/refs/heads/main/base-de-dados-challenge-1/loja_4.csv\"\n",
        "\n",
        "loja = pd.read_csv(url)\n",
        "loja2 = pd.read_csv(url2)\n",
        "loja3 = pd.read_csv(url3)\n",
        "loja4 = pd.read_csv(url4)\n",
        "\n",
        "loja.head()"
      ]
    },
    {
      "cell_type": "markdown",
      "source": [
        "#1. Análise do faturamento\n"
      ],
      "metadata": {
        "id": "X62IW3KFUIYm"
      }
    },
    {
      "cell_type": "code",
      "source": [
        "def formatar_reais(valor):\n",
        "    return f\"R$ {valor:,.2f}\".replace(\",\", \"v\").replace(\".\", \",\").replace(\"v\", \".\")\n",
        "\n",
        "def exibir_faturamento(loja_df, nome_loja):\n",
        "    total = loja_df[\"Preço\"].sum()\n",
        "    print(f\"- {nome_loja}: {formatar_reais(total)}\")\n",
        "    return total\n",
        "\n",
        "print(\"\\nFATURAMENTO TOTAL POR LOJA\")\n",
        "print(\"-\" * 30)\n",
        "\n",
        "faturamento_loja1 = exibir_faturamento(loja, \"Loja 1\")\n",
        "faturamento_loja2 = exibir_faturamento(loja2, \"Loja 2\")\n",
        "faturamento_loja3 = exibir_faturamento(loja3, \"Loja 3\")\n",
        "faturamento_loja4 = exibir_faturamento(loja4, \"Loja 4\")\n",
        "\n",
        "print(\"-\" * 30)"
      ],
      "metadata": {
        "id": "xykobSftV64I",
        "colab": {
          "base_uri": "https://localhost:8080/"
        },
        "outputId": "51a17cb9-4c1b-4fd6-9424-cd12a779cf2a"
      },
      "execution_count": 164,
      "outputs": [
        {
          "output_type": "stream",
          "name": "stdout",
          "text": [
            "\n",
            "FATURAMENTO TOTAL POR LOJA\n",
            "------------------------------\n",
            "- Loja 1: R$ 1.534.509,12\n",
            "- Loja 2: R$ 1.488.459,06\n",
            "- Loja 3: R$ 1.464.025,03\n",
            "- Loja 4: R$ 1.384.497,58\n",
            "------------------------------\n"
          ]
        }
      ]
    },
    {
      "cell_type": "code",
      "source": [
        "import matplotlib.pyplot as plt\n",
        "\n",
        "valores = [faturamento_loja1, faturamento_loja2, faturamento_loja3, faturamento_loja4]\n",
        "lojas = [\"Loja 1\", \"Loja 2\", \"Loja 3\", \"Loja 4\"]\n",
        "\n",
        "plt.pie(valores, labels=lojas, autopct='%1.2f%%', startangle=90)\n",
        "\n",
        "plt.title(\"Faturamento por Loja\")\n",
        "plt.axis('equal')\n",
        "\n",
        "plt.show()\n"
      ],
      "metadata": {
        "id": "KDyr8E71V3m-",
        "colab": {
          "base_uri": "https://localhost:8080/",
          "height": 428
        },
        "outputId": "53ddebc0-f9cb-46df-ff3a-e9e9a5a66e1b"
      },
      "execution_count": 130,
      "outputs": [
        {
          "output_type": "display_data",
          "data": {
            "text/plain": [
              "<Figure size 640x480 with 1 Axes>"
            ],
            "image/png": "[encoded data removed]"
          },
          "metadata": {}
        }
      ]
    },
    {
      "cell_type": "markdown",
      "source": [
        "# 2. Vendas por Categoria\n"
      ],
      "metadata": {
        "id": "2V_vcAPzWZmR"
      }
    },
    {
      "cell_type": "code",
      "source": [
        "def exibir_categorias_populares(loja_df, nome_loja):\n",
        "    print(f\"\\n{'='*40}\")\n",
        "    print(f\"Categorias Populares - {nome_loja}\")\n",
        "    print(\"-\" * 40)\n",
        "\n",
        "    categorias = loja_df[\"Categoria do Produto\"].value_counts()\n",
        "    for categoria, qtd in categorias.items():\n",
        "        print(f\"- {categoria}: {qtd} vendas\")\n",
        "\n",
        "print(\"\\nCATEGORIAS POPULARES POR LOJA (Ordem Decrescente de Vendas)\")\n",
        "\n",
        "\n",
        "exibir_categorias_populares(loja, \"Loja 1\")\n",
        "exibir_categorias_populares(loja2, \"Loja 2\")\n",
        "exibir_categorias_populares(loja3, \"Loja 3\")\n",
        "exibir_categorias_populares(loja4, \"Loja 4\")\n",
        "\n",
        "print(f\"\\n{'='*40}\")\n"
      ],
      "metadata": {
        "id": "A34YupIuYhfF",
        "colab": {
          "base_uri": "https://localhost:8080/"
        },
        "outputId": "aa06e41d-6292-437f-d48c-bf0da95d85c2"
      },
      "execution_count": 165,
      "outputs": [
        {
          "output_type": "stream",
          "name": "stdout",
          "text": [
            "\n",
            "CATEGORIAS POPULARES POR LOJA (Ordem Decrescente de Vendas)\n",
            "\n",
            "========================================\n",
            "Categorias Populares - Loja 1\n",
            "----------------------------------------\n",
            "- moveis: 465 vendas\n",
            "- eletronicos: 448 vendas\n",
            "- brinquedos: 324 vendas\n",
            "- eletrodomesticos: 312 vendas\n",
            "- esporte e lazer: 284 vendas\n",
            "- instrumentos musicais: 182 vendas\n",
            "- livros: 173 vendas\n",
            "- utilidades domesticas: 171 vendas\n",
            "\n",
            "========================================\n",
            "Categorias Populares - Loja 2\n",
            "----------------------------------------\n",
            "- moveis: 442 vendas\n",
            "- eletronicos: 422 vendas\n",
            "- brinquedos: 313 vendas\n",
            "- eletrodomesticos: 305 vendas\n",
            "- esporte e lazer: 275 vendas\n",
            "- instrumentos musicais: 224 vendas\n",
            "- livros: 197 vendas\n",
            "- utilidades domesticas: 181 vendas\n",
            "\n",
            "========================================\n",
            "Categorias Populares - Loja 3\n",
            "----------------------------------------\n",
            "- moveis: 499 vendas\n",
            "- eletronicos: 451 vendas\n",
            "- brinquedos: 315 vendas\n",
            "- eletrodomesticos: 278 vendas\n",
            "- esporte e lazer: 277 vendas\n",
            "- livros: 185 vendas\n",
            "- instrumentos musicais: 177 vendas\n",
            "- utilidades domesticas: 177 vendas\n",
            "\n",
            "========================================\n",
            "Categorias Populares - Loja 4\n",
            "----------------------------------------\n",
            "- moveis: 480 vendas\n",
            "- eletronicos: 451 vendas\n",
            "- brinquedos: 338 vendas\n",
            "- esporte e lazer: 277 vendas\n",
            "- eletrodomesticos: 254 vendas\n",
            "- utilidades domesticas: 201 vendas\n",
            "- livros: 187 vendas\n",
            "- instrumentos musicais: 170 vendas\n",
            "\n",
            "========================================\n"
          ]
        }
      ]
    },
    {
      "cell_type": "code",
      "source": [
        "todas_as_lojas = pd.concat([loja, loja2, loja3, loja4])\n",
        "\n",
        "categoria_counts = todas_as_lojas[\"Categoria do Produto\"].value_counts()\n",
        "\n",
        "plt.figure(figsize=(12, 8))\n",
        "plt.barh(categoria_counts.index, categoria_counts.values)\n",
        "plt.title('Categorias Mais Vendidas - Todas as Lojas')\n",
        "plt.xlabel('Quantidade de Vendas')\n",
        "plt.ylabel('Categoria do Produto')\n",
        "plt.gca().invert_yaxis()\n",
        "plt.show()\n"
      ],
      "metadata": {
        "id": "yZR6cOjXYSk1",
        "colab": {
          "base_uri": "https://localhost:8080/",
          "height": 0
        },
        "outputId": "85ce5227-1d36-4be4-c111-4db4bf88632f"
      },
      "execution_count": 88,
      "outputs": [
        {
          "output_type": "display_data",
          "data": {
            "text/plain": [
              "<Figure size 1200x800 with 1 Axes>"
            ],
            "image/png": "[encoded data removed]"
          },
          "metadata": {}
        }
      ]
    },
    {
      "cell_type": "markdown",
      "source": [
        "# 3. Média de Avaliação das Lojas"
      ],
      "metadata": {
        "id": "Rq6tU_xSY3jk"
      }
    },
    {
      "cell_type": "code",
      "source": [
        "media_avaliacoes_loja1 = loja[\"Avaliação da compra\"].mean()\n",
        "media_avaliacoes_loja2 = loja2[\"Avaliação da compra\"].mean()\n",
        "media_avaliacoes_loja3 = loja3[\"Avaliação da compra\"].mean()\n",
        "media_avaliacoes_loja4 = loja4[\"Avaliação da compra\"].mean()\n",
        "\n",
        "\n",
        "print(\"\\nMÉDIA DE AVALIAÇÕES POR LOJA\")\n",
        "print(\"-\" * 30)\n",
        "print(\"LOJA 1:\", round(media_avaliacoes_loja1, 2))\n",
        "print(\"LOJA 2:\", round(media_avaliacoes_loja2, 2))\n",
        "print(\"LOJA 3:\", round(media_avaliacoes_loja3, 2))\n",
        "print(\"LOJA 4:\", round(media_avaliacoes_loja4, 2))\n",
        "print(\"-\" * 30)"
      ],
      "metadata": {
        "id": "bh3jjjJwY5MU",
        "colab": {
          "base_uri": "https://localhost:8080/"
        },
        "outputId": "4323cf9b-0c02-42d3-917e-71fb1a1bf65b"
      },
      "execution_count": 166,
      "outputs": [
        {
          "output_type": "stream",
          "name": "stdout",
          "text": [
            "\n",
            "MÉDIA DE AVALIAÇÕES POR LOJA\n",
            "------------------------------\n",
            "LOJA 1: 3.98\n",
            "LOJA 2: 4.04\n",
            "LOJA 3: 4.05\n",
            "LOJA 4: 4.0\n",
            "------------------------------\n"
          ]
        }
      ]
    },
    {
      "cell_type": "code",
      "source": [
        "\n",
        "import numpy as np\n",
        "\n",
        "\n",
        "lojas = ['LOJA 1', 'LOJA 2', 'LOJA 3', 'LOJA 4']\n",
        "dados_lojas = [loja['Avaliação da compra'], loja2['Avaliação da compra'], loja3['Avaliação da compra'], loja4['Avaliação da compra']]\n",
        "\n",
        "notas = [1, 2, 3, 4, 5]\n",
        "\n",
        "nota_counts_por_loja = []\n",
        "for dados in dados_lojas:\n",
        "    nota_counts = dados.value_counts().reindex(notas, fill_value=0)\n",
        "    nota_counts_por_loja.append(nota_counts.values)\n",
        "\n",
        "\n",
        "nota_counts_por_loja = np.array(nota_counts_por_loja)\n",
        "\n",
        "x = np.arange(len(lojas))\n",
        "plt.figure(figsize=(12, 8))\n",
        "\n",
        "\n",
        "for i, nota in enumerate(notas):\n",
        "    plt.bar(x + i * largura, nota_counts_por_loja[:, i], largura, color=cores[i], label=f\"Nota {nota}\")\n",
        "\n",
        "plt.title('Distribuição das Notas de Avaliação por Loja')\n",
        "plt.ylabel('Quantidade de Avaliações')\n",
        "plt.xticks(x + largura * 2.5, lojas)\n",
        "plt.legend(title=\"Notas\", loc='upper left')\n",
        "plt.show()\n"
      ],
      "metadata": {
        "id": "I0KkjPoTY88F",
        "colab": {
          "base_uri": "https://localhost:8080/",
          "height": 699
        },
        "outputId": "19501ed9-9ef6-4a7c-9509-3adc9304dc2b"
      },
      "execution_count": 120,
      "outputs": [
        {
          "output_type": "display_data",
          "data": {
            "text/plain": [
              "<Figure size 1200x800 with 1 Axes>"
            ],
            "image/png": "[encoded data removed]"
          },
          "metadata": {}
        }
      ]
    },
    {
      "cell_type": "markdown",
      "source": [
        "# 4. Produtos Mais e Menos Vendidos"
      ],
      "metadata": {
        "id": "DmNp1KPBZCm-"
      }
    },
    {
      "cell_type": "code",
      "source": [
        "def exibir(loja_df, nome_loja, top_n=3):\n",
        "    contagem = loja_df[\"Produto\"].value_counts()\n",
        "    mais_vendidos = contagem.head(top_n)\n",
        "    menos_vendidos = contagem.tail(1)\n",
        "\n",
        "    print(f\"\\n{'='*40}\")\n",
        "    print(f\"{nome_loja}\")\n",
        "    print(\"-\" * 40)\n",
        "\n",
        "    print(\"Produtos Mais Vendidos:\")\n",
        "    for produto, qtd in mais_vendidos.items():\n",
        "        print(f\"- {produto} — {qtd} unidades\")\n",
        "\n",
        "    print(\"\\nProduto Menos Vendido:\")\n",
        "    for produto, qtd in menos_vendidos.items():\n",
        "        print(f\"- {produto} — {qtd} unidades\")\n",
        "    print(f\"{'='*40}\")\n",
        "\n",
        "# Aplicar a função para cada loja\n",
        "exibir(loja, \"Loja 1\")\n",
        "exibir(loja2, \"Loja 2\")\n",
        "exibir(loja3, \"Loja 3\")\n",
        "exibir(loja4, \"Loja 4\")"
      ],
      "metadata": {
        "id": "qoyjqijQZHfF",
        "colab": {
          "base_uri": "https://localhost:8080/"
        },
        "outputId": "3523e1cc-0b1d-41d7-a745-11a0b55ddbd7"
      },
      "execution_count": 139,
      "outputs": [
        {
          "output_type": "stream",
          "name": "stdout",
          "text": [
            "\n",
            "========================================\n",
            "Loja 1\n",
            "----------------------------------------\n",
            "Produtos Mais Vendidos:\n",
            "- Micro-ondas — 60 unidades\n",
            "- TV Led UHD 4K — 60 unidades\n",
            "- Guarda roupas — 60 unidades\n",
            "\n",
            "Produto Menos Vendido:\n",
            "- Celular ABXY — 33 unidades\n",
            "========================================\n",
            "\n",
            "========================================\n",
            "Loja 2\n",
            "----------------------------------------\n",
            "Produtos Mais Vendidos:\n",
            "- Iniciando em programação — 65 unidades\n",
            "- Micro-ondas — 62 unidades\n",
            "- Bateria — 61 unidades\n",
            "\n",
            "Produto Menos Vendido:\n",
            "- Jogo de tabuleiro — 32 unidades\n",
            "========================================\n",
            "\n",
            "========================================\n",
            "Loja 3\n",
            "----------------------------------------\n",
            "Produtos Mais Vendidos:\n",
            "- Kit banquetas — 57 unidades\n",
            "- Mesa de jantar — 56 unidades\n",
            "- Cama king — 56 unidades\n",
            "\n",
            "Produto Menos Vendido:\n",
            "- Blocos de montar — 35 unidades\n",
            "========================================\n",
            "\n",
            "========================================\n",
            "Loja 4\n",
            "----------------------------------------\n",
            "Produtos Mais Vendidos:\n",
            "- Cama box — 62 unidades\n",
            "- Faqueiro — 59 unidades\n",
            "- Dashboards com Power BI — 56 unidades\n",
            "\n",
            "Produto Menos Vendido:\n",
            "- Guitarra — 33 unidades\n",
            "========================================\n"
          ]
        }
      ]
    },
    {
      "cell_type": "markdown",
      "source": [
        "# 5. Frete Médio por Loja\n"
      ],
      "metadata": {
        "id": "Fl0cGi3bZKqU"
      }
    },
    {
      "cell_type": "code",
      "source": [
        "# Calcular o custo médio de frete por loja\n",
        "frete_medio_loja1 = loja[\"Frete\"].mean()\n",
        "frete_medio_loja2 = loja2[\"Frete\"].mean()\n",
        "frete_medio_loja3 = loja3[\"Frete\"].mean()\n",
        "frete_medio_loja4 = loja4[\"Frete\"].mean()\n",
        "\n",
        "# Função para formatar como moeda brasileira\n",
        "def formatar_reais(valor):\n",
        "    return f\"R$ {valor:,.2f}\".replace(\",\", \"v\").replace(\".\", \",\").replace(\"v\", \".\")\n",
        "\n",
        "# Exibir resultados formatados\n",
        "print(\"\\nCUSTO MÉDIO DE FRETE POR LOJA\")\n",
        "print(\"-\" * 30)\n",
        "print(f\"Loja 1: {formatar_reais(frete_medio_loja1)}\")\n",
        "print(f\"Loja 2: {formatar_reais(frete_medio_loja2)}\")\n",
        "print(f\"Loja 3: {formatar_reais(frete_medio_loja3)}\")\n",
        "print(f\"Loja 4: {formatar_reais(frete_medio_loja4)}\")\n",
        "print(\"-\" * 30)"
      ],
      "metadata": {
        "id": "S2JeaCykZNy9",
        "colab": {
          "base_uri": "https://localhost:8080/"
        },
        "outputId": "61607a0d-65f2-4cb1-b31a-5f252cfa01d0"
      },
      "execution_count": 169,
      "outputs": [
        {
          "output_type": "stream",
          "name": "stdout",
          "text": [
            "\n",
            "CUSTO MÉDIO DE FRETE POR LOJA\n",
            "------------------------------\n",
            "Loja 1: R$ 34,69\n",
            "Loja 2: R$ 33,62\n",
            "Loja 3: R$ 33,07\n",
            "Loja 4: R$ 31,28\n",
            "------------------------------\n"
          ]
        }
      ]
    },
    {
      "cell_type": "code",
      "source": [],
      "metadata": {
        "id": "ozLu14TnPj6d"
      },
      "execution_count": null,
      "outputs": []
    },
    {
      "cell_type": "markdown",
      "source": [
        "# 6. Relatório Final"
      ],
      "metadata": {
        "id": "LgMyZNBZF6Bs"
      }
    },
    {
      "cell_type": "markdown",
      "source": [
        "###🧭 Introdução\n",
        "\n",
        "O objetivo desta análise foi avaliar o desempenho de quatro lojas virtuais sob diferentes perspectivas, para auxiliar o Senhor João na tomada de decisão sobre qual loja deve ser vendida. A decisão é baseada em uma combinação de métricas, incluindo **faturamento**, **avaliações dos clientes**, **produtos mais e menos vendidos**, **categorias mais populares** e o **custo médio de frete**. A seguir, apresentamos os resultados obtidos, acompanhados de interpretações estratégicas para cada indicador.\n",
        "\n",
        "---\n",
        "\n",
        "\n",
        "####💰 Faturamento Total\n",
        "\n",
        "A Loja 1 obteve o **maior faturamento**, totalizando R$ 1.534.509,12. Ela é seguida pelas Lojas 2 e 3, com valores similares, e por último a Loja 4.\n",
        "\n",
        "| Loja     | Faturamento    |\n",
        "|----------|----------------|\n",
        "| Loja 1   | 1.534.509,12   |\n",
        "| Loja 2   | 1.488.459,06   |\n",
        "| Loja 3   | 1.464.025,03   |\n",
        "| Loja 4   | 1.384.497,58   |\n",
        "\n",
        "![image.png](data:image/png;base64,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)\n",
        "\n",
        "\n",
        "> Loja 1 lidera em receita, demonstrando maior volume de vendas.\n",
        "\n",
        "---\n",
        "\n",
        "#### ⭐ Avaliações dos Clientes\n",
        "\n",
        "A Loja 3 possui a **melhor avaliação média** dos clientes.\n",
        "\n",
        "\n",
        "| Loja     | Média de Avaliações |\n",
        "|----------|---------------------|\n",
        "| Loja 3   | 4.05                |\n",
        "| Loja 2   | 4.04                |\n",
        "| Loja 4   | 4.00                |\n",
        "| Loja 1   | 3.98                |\n",
        "\n",
        "\n",
        "---\n",
        "\n",
        "#### 📦 Produtos Mais e Menos Vendidos\n",
        "\n",
        "Cada loja apresenta destaque em produtos distintos. A Loja 2, por exemplo, teve **produtos com maiores volumes de vendas individuais** (até 65 unidades), enquanto a Loja 1 teve **três produtos empatados** como mais vendidos (60 unidades cada).\n",
        "\n",
        "**Loja 1**\n",
        "- Mais vendidos: Micro-ondas, TV Led UHD 4K, Guarda-roupas (60 unidades)\n",
        "- Menos vendido: Celular ABXY (33 unidades)\n",
        "\n",
        "**Loja 2**\n",
        "- Mais vendidos: Iniciando em programação (65), Micro-ondas (62), Bateria (61)\n",
        "- Menos vendido: Jogo de tabuleiro (32)\n",
        "\n",
        "**Loja 3**\n",
        "- Mais vendidos: Kit banquetas (57), Mesa de jantar (56), Cama king (56)\n",
        "- Menos vendido: Blocos de montar (35)\n",
        "\n",
        "**Loja 4**\n",
        "- Mais vendidos: Cama box (62), Faqueiro (59), Dashboards com Power BI (56)\n",
        "- Menos vendido: Guitarra (33)\n",
        "\n",
        "\n",
        "#### 🚚 Custo Médio de Frete\n",
        "\n",
        "A Loja 4 possui o **menor custo médio de frete** (R$ 31,28), o que pode representar maior eficiência logística ou localização estratégica.\n",
        "\n",
        "| Loja     | Frete Médio |\n",
        "|----------|-------------|\n",
        "| Loja 4   |   31,28    |\n",
        "| Loja 3   |   33,07    |\n",
        "| Loja 2   |   33,62    |\n",
        "| Loja 1   |   34,69    |\n",
        "\n",
        "---\n",
        "\n",
        "### ✅ Conclusão e Recomendação\n",
        "\n",
        "Com base nos dados analisados, **recomendamos que o Senhor João venda a Loja 4**. Apesar de ter o menor custo de frete, essa loja apresenta o **menor faturamento total** e **menor diversidade entre produtos de destaque**. Sua performance geral é inferior às demais, o que a torna a escolha mais lógica para desinvestimento.\n",
        "\n"
      ],
      "metadata": {
        "id": "iCo2V2gIGMcQ"
      }
    }
  ]
}